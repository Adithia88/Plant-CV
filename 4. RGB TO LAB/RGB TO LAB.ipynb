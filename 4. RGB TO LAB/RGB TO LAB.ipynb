{
 "cells": [
  {
   "cell_type": "code",
   "execution_count": 2,
   "metadata": {},
   "outputs": [],
   "source": [
    "from plantcv import plantcv as pcv\n",
    "import cv2\n",
    "rgb_img = cv2.imread(\"before_gray.jpg\")"
   ]
  },
  {
   "cell_type": "code",
   "execution_count": 4,
   "metadata": {},
   "outputs": [
    {
     "data": {
      "text/plain": [
       "True"
      ]
     },
     "execution_count": 4,
     "metadata": {},
     "output_type": "execute_result"
    }
   ],
   "source": [
    "from plantcv import plantcv as pcv\n",
    "# image converted from RGB to LAB, channels are then split. \n",
    "# Lightness ('l') channel is outputed.\n",
    "l_channel = pcv.rgb2gray_lab(rgb_img, 'l')\n",
    "cv2.imwrite(\"l_channel.jpg\",l_channel)"
   ]
  },
  {
   "cell_type": "code",
   "execution_count": 5,
   "metadata": {},
   "outputs": [
    {
     "data": {
      "text/plain": [
       "True"
      ]
     },
     "execution_count": 5,
     "metadata": {},
     "output_type": "execute_result"
    }
   ],
   "source": [
    "from plantcv import plantcv as pcv\n",
    "# image converted from RGB to LAB, channels are then split. \n",
    "# Green-Magenta ('a') channel is outputed.\n",
    "a_channel = pcv.rgb2gray_lab(rgb_img, 'a')\n",
    "cv2.imwrite(\"a_channel.jpg\",a_channel)"
   ]
  },
  {
   "cell_type": "code",
   "execution_count": 6,
   "metadata": {},
   "outputs": [
    {
     "data": {
      "text/plain": [
       "True"
      ]
     },
     "execution_count": 6,
     "metadata": {},
     "output_type": "execute_result"
    }
   ],
   "source": [
    "from plantcv import plantcv as pcv\n",
    "# image converted from RGB to Lab, channels are then split. \n",
    "# Blue-Yellow ('b') channel is outputed.\n",
    "b_channel = pcv.rgb2gray_lab(rgb_img, 'b')\n",
    "cv2.imwrite(\"b_channel.jpg\",b_channel)"
   ]
  }
 ],
 "metadata": {
  "kernelspec": {
   "display_name": "Python 3",
   "language": "python",
   "name": "python3"
  },
  "language_info": {
   "codemirror_mode": {
    "name": "ipython",
    "version": 3
   },
   "file_extension": ".py",
   "mimetype": "text/x-python",
   "name": "python",
   "nbconvert_exporter": "python",
   "pygments_lexer": "ipython3",
   "version": "3.7.7"
  }
 },
 "nbformat": 4,
 "nbformat_minor": 4
}
