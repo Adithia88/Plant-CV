{
 "cells": [
  {
   "cell_type": "code",
   "execution_count": 5,
   "metadata": {},
   "outputs": [],
   "source": [
    "from plantcv import plantcv as pcv\n",
    "import cv2\n",
    "rgb_img = cv2.imread(\"crop.jpg\")\n",
    "id_objects = cv2.imread(\"crop_area.jpg\")"
   ]
  },
  {
   "cell_type": "code",
   "execution_count": 9,
   "metadata": {},
   "outputs": [
    {
     "data": {
      "text/plain": [
       "True"
      ]
     },
     "execution_count": 9,
     "metadata": {},
     "output_type": "execute_result"
    }
   ],
   "source": [
    "from plantcv import plantcv as pcv\n",
    "# Crop image\n",
    "crop_img = pcv.auto_crop(rgb_img, id_objects[0], 400, 500, 'black')\n",
    "cv2.imwrite(\"crop_img.jpg\",crop_img)\n",
    "crop_img2 = pcv.auto_crop(rgb_img, id_objects[0], 400, 500, 'image')\n",
    "cv2.imwrite(\"crop_img2.jpg\",crop_img2)"
   ]
  }
 ],
 "metadata": {
  "kernelspec": {
   "display_name": "Python 3",
   "language": "python",
   "name": "python3"
  },
  "language_info": {
   "codemirror_mode": {
    "name": "ipython",
    "version": 3
   },
   "file_extension": ".py",
   "mimetype": "text/x-python",
   "name": "python",
   "nbconvert_exporter": "python",
   "pygments_lexer": "ipython3",
   "version": "3.7.7"
  }
 },
 "nbformat": 4,
 "nbformat_minor": 4
}
