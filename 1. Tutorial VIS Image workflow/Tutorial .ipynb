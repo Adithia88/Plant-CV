{
 "cells": [
  {
   "cell_type": "code",
   "execution_count": 12,
   "metadata": {},
   "outputs": [],
   "source": [
    "#!/usr/bin/env python\n",
    "import os\n",
    "import argparse\n",
    "from plantcv import plantcv as pcv\n",
    "import cv2\n",
    "import numpy as np"
   ]
  },
  {
   "cell_type": "code",
   "execution_count": 13,
   "metadata": {},
   "outputs": [],
   "source": [
    "img = cv2.imread(\"testing.png\")"
   ]
  },
  {
   "cell_type": "code",
   "execution_count": 14,
   "metadata": {},
   "outputs": [
    {
     "data": {
      "text/plain": [
       "True"
      ]
     },
     "execution_count": 14,
     "metadata": {},
     "output_type": "execute_result"
    }
   ],
   "source": [
    "# Convert RGB to HSV and extract the saturation channel\n",
    "# Inputs:\n",
    "#   rgb_image - RGB image data \n",
    "#   channel - Split by 'h' (hue), 's' (saturation), or 'v' (value) channel\n",
    "\n",
    "s = pcv.rgb2gray_hsv(rgb_img=img, channel='s')\n",
    "cv2.imwrite(\"gray_hsv.png\",s)"
   ]
  },
  {
   "cell_type": "code",
   "execution_count": 15,
   "metadata": {},
   "outputs": [
    {
     "data": {
      "text/plain": [
       "True"
      ]
     },
     "execution_count": 15,
     "metadata": {},
     "output_type": "execute_result"
    }
   ],
   "source": [
    "# Threshold the saturation image\n",
    "\n",
    "# Inputs:\n",
    "#   gray_img - Grayscale image data \n",
    "#   threshold- Threshold value (between 0-255)\n",
    "#   max_value - Value to apply above threshold (255 = white) \n",
    "#   object_type - 'light' (default) or 'dark'. If the object is lighter than the \n",
    "#                 background then standard threshold is done. If the object is \n",
    "#                 darker than the background then inverse thresholding is done. \n",
    "\n",
    "s_thresh = pcv.threshold.binary(gray_img=s, threshold=85, max_value=255, object_type='light')\n",
    "cv2.imwrite(\"threshold.binary.jpg\",s_thresh)"
   ]
  },
  {
   "cell_type": "code",
   "execution_count": 16,
   "metadata": {},
   "outputs": [
    {
     "data": {
      "text/plain": [
       "True"
      ]
     },
     "execution_count": 16,
     "metadata": {},
     "output_type": "execute_result"
    }
   ],
   "source": [
    "# Median Blur\n",
    "# Inputs: \n",
    "#   gray_img - Grayscale image data \n",
    "#   ksize - Kernel size (integer or tuple), (ksize, ksize) box if integer input,\n",
    "#           (n, m) box if tuple input \n",
    "\n",
    "s_mblur = pcv.median_blur(gray_img=s_thresh, ksize=5)\n",
    "s_cnt = pcv.median_blur(gray_img=s_thresh, ksize=5)\n",
    "cv2.imwrite(\"s_cnt.jpg\",s_cnt)"
   ]
  },
  {
   "cell_type": "code",
   "execution_count": 17,
   "metadata": {},
   "outputs": [
    {
     "data": {
      "text/plain": [
       "True"
      ]
     },
     "execution_count": 17,
     "metadata": {},
     "output_type": "execute_result"
    }
   ],
   "source": [
    "# Convert RGB to LAB and extract the Blue channel\n",
    "\n",
    "# Input:\n",
    "#   rgb_img - RGB image data \n",
    "#   channel- Split by 'l' (lightness), 'a' (green-magenta), or 'b' (blue-yellow) channel\n",
    "b = pcv.rgb2gray_lab(rgb_img=img, channel='b')\n",
    "\n",
    "# Threshold the blue image\n",
    "b_thresh = pcv.threshold.binary(gray_img=b, threshold=160, max_value=255, \n",
    "                                    object_type='light')\n",
    "b_cnt = pcv.threshold.binary(gray_img=b, threshold=160, max_value=255, \n",
    "                                 object_type='light')\n",
    "cv2.imwrite(\"b_thresh.jpg\",b_thresh)\n",
    "cv2.imwrite(\"b_cnt.jpg\",b_cnt)"
   ]
  },
  {
   "cell_type": "code",
   "execution_count": 18,
   "metadata": {},
   "outputs": [
    {
     "data": {
      "text/plain": [
       "True"
      ]
     },
     "execution_count": 18,
     "metadata": {},
     "output_type": "execute_result"
    }
   ],
   "source": [
    "# Join the thresholded saturation and blue-yellow images\n",
    "\n",
    "# Inputs: \n",
    "#   bin_img1 - Binary image data to be compared to bin_img2\n",
    "#   bin_img2 - Binary image data to be compared to bin_img1\n",
    "\n",
    "bs = pcv.logical_or(bin_img1=s_mblur, bin_img2=b_cnt)\n",
    "\n",
    "cv2.imwrite(\"bs.jpg\",bs)"
   ]
  },
  {
   "cell_type": "code",
   "execution_count": 19,
   "metadata": {},
   "outputs": [
    {
     "data": {
      "text/plain": [
       "True"
      ]
     },
     "execution_count": 19,
     "metadata": {},
     "output_type": "execute_result"
    }
   ],
   "source": [
    "# Apply Mask (for VIS images, mask_color=white)\n",
    "\n",
    "# Inputs:\n",
    "#   rgb_img - RGB image data \n",
    "#   mask - Binary mask image data \n",
    "#   mask_color - 'white' or 'black' \n",
    "\n",
    "masked = pcv.apply_mask(img, mask=bs, mask_color='white')\n",
    "\n",
    "cv2.imwrite(\"masked.jpg\",masked)"
   ]
  },
  {
   "cell_type": "code",
   "execution_count": 20,
   "metadata": {},
   "outputs": [
    {
     "data": {
      "text/plain": [
       "True"
      ]
     },
     "execution_count": 20,
     "metadata": {},
     "output_type": "execute_result"
    }
   ],
   "source": [
    "# Convert RGB to LAB and extract the Green-Magenta and Blue-Yellow channels\n",
    "masked_a = pcv.rgb2gray_lab(rgb_img=masked, channel='a')\n",
    "cv2.imwrite(\"masked_a.jpg\",masked_a)\n",
    "\n",
    "\n",
    "masked_b = pcv.rgb2gray_lab(rgb_img=masked, channel='b')\n",
    "cv2.imwrite(\"masked_B.jpg\",masked_b)\n",
    "\n",
    "# Threshold the green-magenta and blue images\n",
    "maskeda_thresh = pcv.threshold.binary(gray_img=masked_a, threshold=115, \n",
    "                                      max_value=255, object_type='dark')\n",
    "cv2.imwrite(\"masked_thresh.jpg\",maskeda_thresh)\n",
    "\n",
    "maskeda_thresh1 = pcv.threshold.binary(gray_img=masked_a, threshold=135, \n",
    "                                           max_value=255, object_type='light')\n",
    "cv2.imwrite(\"masked_thresh1.jpg\",maskeda_thresh1)\n",
    "\n",
    "maskedb_thresh = pcv.threshold.binary(gray_img=masked_b, threshold=128, \n",
    "                                          max_value=255, object_type='light')\n",
    "cv2.imwrite(\"maskedb_thresh.jpg\",maskedb_thresh)\n",
    "\n",
    "# Join the thresholded saturation and blue-yellow images (OR)\n",
    "ab1 = pcv.logical_or(bin_img1=maskeda_thresh, bin_img2=maskedb_thresh)\n",
    "cv2.imwrite(\"ab1.jpg\",ab1)\n",
    "\n",
    "ab = pcv.logical_or(bin_img1=maskeda_thresh1, bin_img2=ab1)\n",
    "cv2.imwrite(\"ab.jpg\",ab1)\n",
    "\n",
    "# Fill small objects\n",
    "# Inputs: \n",
    "#   bin_img - Binary image data \n",
    "#   size - Minimum object area size in pixels (must be an integer), and smaller objects will be filled\n",
    "ab_fill = pcv.fill(bin_img=ab, size=200)\n",
    "cv2.imwrite(\"ab_fill.jpg\",ab_fill)\n",
    "\n",
    "# Apply mask (for VIS images, mask_color=white)\n",
    "masked2 = pcv.apply_mask(masked, mask=ab_fill, mask_color='white')\n",
    "cv2.imwrite(\"masked2.jpg\",masked2)\n"
   ]
  },
  {
   "cell_type": "code",
   "execution_count": 21,
   "metadata": {
    "scrolled": false
   },
   "outputs": [],
   "source": [
    "id_objects, obj_hierarchy = pcv.find_objects(masked2, ab_fill)\n",
    "#print(id_objects)\n",
    "#cv2.imwrite(\"idobj\",np.int32(id_objects))\n",
    "\n",
    "# Define ROI\n",
    "# Inputs: \n",
    "#   img - RGB or grayscale image to plot the ROI on \n",
    "#   x - The x-coordinate of the upper left corner of the rectangle \n",
    "#   y - The y-coordinate of the upper left corner of the rectangle \n",
    "#   h - The height of the rectangle\n",
    "#   w - The width of the rectangle \n",
    "roi1, roi_hierarchy= pcv.roi.rectangle(img=masked2, x=100, y=100, h=200, w=200)\n",
    "\n",
    "# Decide which objects to keep\n",
    "# Inputs:\n",
    "#    img            = img to display kept objects\n",
    "#    roi_contour    = contour of roi, output from any ROI function\n",
    "#    roi_hierarchy  = contour of roi, output from any ROI function\n",
    "#    object_contour = contours of objects, output from pcv.find_objects function\n",
    "#    obj_hierarchy  = hierarchy of objects, output from pcv.find_objects function\n",
    "#    roi_type       = 'partial' (default, for partially inside), 'cutto', or \n",
    "#    'largest' (keep only largest contour)\n",
    "roi_objects, hierarchy3, kept_mask, obj_area = pcv.roi_objects(img=img, roi_contour=roi1, \n",
    "                                                                   roi_hierarchy=roi_hierarchy, \n",
    "                                                                   object_contour=id_objects, \n",
    "                                                                   obj_hierarchy=obj_hierarchy,\n",
    "                                                                   roi_type='partial')\n",
    "\n",
    "# Object combine kept objects\n",
    "# Inputs:\n",
    "#   img - RGB or grayscale image data for plotting \n",
    "#   contours - Contour list \n",
    "#   hierarchy - Contour hierarchy array \n",
    "obj, mask = pcv.object_composition(img=img, contours=roi_objects, hierarchy=hierarchy3)\n"
   ]
  },
  {
   "cell_type": "code",
   "execution_count": 22,
   "metadata": {},
   "outputs": [
    {
     "data": {
      "image/png": "[encoded data removed]",
      "text/plain": [
       "<Figure size 432x288 with 2 Axes>"
      ]
     },
     "metadata": {
      "needs_background": "light"
     },
     "output_type": "display_data"
    }
   ],
   "source": [
    "    # Inputs:\n",
    "    #   img - RGB or grayscale image data \n",
    "    #   obj- Single or grouped contour object\n",
    "    #   mask - Binary image mask to use as mask for moments analysis     \n",
    "shape_img = pcv.analyze_object(img=img, obj=obj, mask=mask)\n",
    "cv2.imwrite(\"shape_img.jpg\",shape_img)\n",
    "\n",
    "    # Shape properties relative to user boundary line (optional)\n",
    "\n",
    "    # Inputs:\n",
    "    #   img - RGB or grayscale image data \n",
    "    #   obj - Single or grouped contour object \n",
    "    #   mask - Binary mask of selected contours \n",
    "    #   line_position - Position of boundary line (a value of 0 would draw a line \n",
    "    #                   through the bottom of the image) \n",
    "boundary_img1 = pcv.analyze_bound_horizontal(img=img, obj=obj, mask=mask, \n",
    "                                                   line_position=1680)\n",
    "cv2.imwrite(\"boundary_img1.jpg\",boundary_img1)\n",
    "    # Determine color properties: Histograms, Color Slices, output color analyzed histogram (optional)\n",
    "\n",
    "    # Inputs:\n",
    "    #   rgb_img - RGB image data\n",
    "    #   mask - Binary mask of selected contours \n",
    "    #   hist_plot_type - None (default), 'all', 'rgb', 'lab', or 'hsv'\n",
    "    #                    This is the data to be printed to the SVG histogram file  \n",
    "color_histogram = pcv.analyze_color(rgb_img=img, mask=kept_mask, hist_plot_type='all')\n",
    "    # Pseudocolor the grayscale image\n",
    "\n",
    "    # Inputs:\n",
    "    #     gray_img - Grayscale image data\n",
    "    #     obj - Single or grouped contour object (optional), if provided the pseudocolored image gets \n",
    "    #           cropped down to the region of interest.\n",
    "    #     mask - Binary mask (optional) \n",
    "    #     background - Background color/type. Options are \"image\" (gray_img, default), \"white\", or \"black\". A mask \n",
    "    #                  must be supplied.\n",
    "    #     cmap - Colormap\n",
    "    #     min_value - Minimum value for range of interest\n",
    "    #     max_value - Maximum value for range of interest\n",
    "    #     dpi - Dots per inch for image if printed out (optional, if dpi=None then the default is set to 100 dpi).\n",
    "    #     axes - If False then the title, x-axis, and y-axis won't be displayed (default axes=True).\n",
    "    #     colorbar - If False then the colorbar won't be displayed (default colorbar=True)\n",
    "pseudocolored_img = pcv.visualize.pseudocolor(gray_img=s, mask=kept_mask, cmap='jet')\n"
   ]
  }
 ],
 "metadata": {
  "kernelspec": {
   "display_name": "Python 3",
   "language": "python",
   "name": "python3"
  },
  "language_info": {
   "codemirror_mode": {
    "name": "ipython",
    "version": 3
   },
   "file_extension": ".py",
   "mimetype": "text/x-python",
   "name": "python",
   "nbconvert_exporter": "python",
   "pygments_lexer": "ipython3",
   "version": "3.7.7"
  }
 },
 "nbformat": 4,
 "nbformat_minor": 4
}
