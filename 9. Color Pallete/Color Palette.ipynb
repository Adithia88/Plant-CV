{
 "cells": [
  {
   "cell_type": "code",
   "execution_count": 1,
   "metadata": {},
   "outputs": [
    {
     "name": "stdout",
     "output_type": "stream",
     "text": [
      "[[255, 0, 40]]\n",
      "[[255, 0, 40]]\n",
      "[[253, 231, 36], [58, 82, 139], [68, 1, 84], [94, 201, 97], [32, 144, 140]]\n",
      "[[253, 231, 36], [58, 82, 139], [68, 1, 84], [94, 201, 97], [32, 144, 140]]\n"
     ]
    }
   ],
   "source": [
    "from plantcv import plantcv as pcv\n",
    "\n",
    "# Get one color\n",
    "colors = pcv.color_palette(1)\n",
    "print(colors)\n",
    "# [[255, 0, 40]]\n",
    "\n",
    "# The color scale is saved for use by other functions\n",
    "print(pcv.params.saved_color_scale)\n",
    "# [[255, 0, 40]]\n",
    "\n",
    "# The color scale can be changed and the order can be changed from \"sequential\" to \"random\"\n",
    "pcv.params.color_scale = \"viridis\"\n",
    "pcv.params.color_sequence = \"random\"\n",
    "\n",
    "# Get five colors (note this will be a new color scale because saved = False by default)\n",
    "colors = pcv.color_palette(5)\n",
    "print(colors)\n",
    "# [[68, 1, 84], [94, 201, 97], [58, 82, 139], [253, 231, 36], [32, 144, 140]]\n",
    "\n",
    "# To use a saved color scale (if it exists)\n",
    "colors = pcv.color_palette(num=5, saved=True)\n",
    "print(colors)\n",
    "# [[68, 1, 84], [94, 201, 97], [58, 82, 139], [253, 231, 36], [32, 144, 140]]\n",
    "\n",
    "# To explicitly remove the saved scale, set it to None\n",
    "pcv.params.saved_color_scale = None"
   ]
  }
 ],
 "metadata": {
  "kernelspec": {
   "display_name": "Python 3",
   "language": "python",
   "name": "python3"
  },
  "language_info": {
   "codemirror_mode": {
    "name": "ipython",
    "version": 3
   },
   "file_extension": ".py",
   "mimetype": "text/x-python",
   "name": "python",
   "nbconvert_exporter": "python",
   "pygments_lexer": "ipython3",
   "version": "3.7.7"
  }
 },
 "nbformat": 4,
 "nbformat_minor": 4
}
