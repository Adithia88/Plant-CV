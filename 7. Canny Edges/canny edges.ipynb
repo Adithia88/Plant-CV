{
 "cells": [
  {
   "cell_type": "code",
   "execution_count": 3,
   "metadata": {},
   "outputs": [
    {
     "data": {
      "text/plain": [
       "True"
      ]
     },
     "execution_count": 3,
     "metadata": {},
     "output_type": "execute_result"
    }
   ],
   "source": [
    "from plantcv import plantcv as pcv\n",
    "import cv2\n",
    "img = cv2.imread(\"canny.jpg\")\n",
    "\n",
    "# Set global debug behavior to None (default), \"print\" (to file), \n",
    "# or \"plot\" (Jupyter Notebooks or X11)\n",
    "pcv.params.debug = \"print\"\n",
    "\n",
    "# Create binary image of edges.\n",
    "edges = pcv.canny_edge_detect(img)\n",
    "cv2.imwrite(\"edges.jpg\",edges)\n",
    "# Lower sigma value to pick up more edges\n",
    "edges2 = pcv.canny_edge_detect(img=img, sigma=0.1)\n",
    "cv2.imwrite(\"edges2.jpg\",edges2)\n",
    "# Create a mask\n",
    "masked, bin_img, rect_contour, hierarchy = pcv.rectangle_mask(img, (100,150), \n",
    "                                                              (300,325), 'black')\n",
    "\n",
    "# Find edges within a mask\n",
    "edges3 = pcv.canny_edge_detect(img=img, mask=bin_img, mask_color='black')\n",
    "cv2.imwrite(\"edges3.jpg\",edges3)"
   ]
  }
 ],
 "metadata": {
  "kernelspec": {
   "display_name": "Python 3",
   "language": "python",
   "name": "python3"
  },
  "language_info": {
   "codemirror_mode": {
    "name": "ipython",
    "version": 3
   },
   "file_extension": ".py",
   "mimetype": "text/x-python",
   "name": "python",
   "nbconvert_exporter": "python",
   "pygments_lexer": "ipython3",
   "version": "3.7.7"
  }
 },
 "nbformat": 4,
 "nbformat_minor": 4
}
