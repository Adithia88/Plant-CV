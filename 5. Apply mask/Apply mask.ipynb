{
 "cells": [
  {
   "cell_type": "code",
   "execution_count": 21,
   "metadata": {},
   "outputs": [],
   "source": [
    "from plantcv import plantcv as pcv\n",
    "import cv2\n",
    "img = cv2.imread(\"beforemask.jpg\")\n",
    "mask = cv2.imread(\"mask.jpg\")"
   ]
  },
  {
   "cell_type": "code",
   "execution_count": 22,
   "metadata": {},
   "outputs": [
    {
     "data": {
      "text/plain": [
       "True"
      ]
     },
     "execution_count": 22,
     "metadata": {},
     "output_type": "execute_result"
    }
   ],
   "source": [
    "from plantcv import plantcv as pcv\n",
    "# Apply binary 'white' mask over an image. \n",
    "masked_image = pcv.apply_mask(img=img, mask=mask, mask_color='white')\n",
    "cv2.imwrite(\"masked_image_white.jpg\",masked_image)"
   ]
  },
  {
   "cell_type": "code",
   "execution_count": 23,
   "metadata": {},
   "outputs": [
    {
     "data": {
      "text/plain": [
       "True"
      ]
     },
     "execution_count": 23,
     "metadata": {},
     "output_type": "execute_result"
    }
   ],
   "source": [
    "from plantcv import plantcv as pcv\n",
    "# Apply binary 'black' mask over an image.\n",
    "masked_image = pcv.apply_mask(img=img, mask=mask, mask_color='black')\n",
    "cv2.imwrite(\"masked_image_black.jpg\",masked_image)"
   ]
  }
 ],
 "metadata": {
  "kernelspec": {
   "display_name": "Python 3",
   "language": "python",
   "name": "python3"
  },
  "language_info": {
   "codemirror_mode": {
    "name": "ipython",
    "version": 3
   },
   "file_extension": ".py",
   "mimetype": "text/x-python",
   "name": "python",
   "nbconvert_exporter": "python",
   "pygments_lexer": "ipython3",
   "version": "3.7.7"
  }
 },
 "nbformat": 4,
 "nbformat_minor": 4
}
