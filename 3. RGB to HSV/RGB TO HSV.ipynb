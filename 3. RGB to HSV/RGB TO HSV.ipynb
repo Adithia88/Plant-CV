{
 "cells": [
  {
   "cell_type": "code",
   "execution_count": 1,
   "metadata": {},
   "outputs": [],
   "source": [
    "from plantcv import plantcv as pcv\n",
    "import cv2\n",
    "rgb_img = cv2.imread(\"canny.jpg\")\n"
   ]
  },
  {
   "cell_type": "code",
   "execution_count": 2,
   "metadata": {},
   "outputs": [
    {
     "data": {
      "text/plain": [
       "True"
      ]
     },
     "execution_count": 2,
     "metadata": {},
     "output_type": "execute_result"
    }
   ],
   "source": [
    "from plantcv import plantcv as pcv\n",
    "# image converted from RGB to HSV, channels are then split. \n",
    "# Hue ('h') channel is outputed.\n",
    "h_channel = pcv.rgb2gray_hsv(rgb_img, 'h')\n",
    "cv2.imwrite(\"h_channel.jpg\",h_channel)"
   ]
  },
  {
   "cell_type": "code",
   "execution_count": 3,
   "metadata": {},
   "outputs": [
    {
     "data": {
      "text/plain": [
       "True"
      ]
     },
     "execution_count": 3,
     "metadata": {},
     "output_type": "execute_result"
    }
   ],
   "source": [
    "from plantcv import plantcv as pcv\n",
    "# image converted from RGB to HSV, channels are then split. \n",
    "# Saturation ('s') channel is outputed.    \n",
    "s_channel = pcv.rgb2gray_hsv(rgb_img, 's')\n",
    "cv2.imwrite(\"s_channel.jpg\",s_channel)"
   ]
  },
  {
   "cell_type": "code",
   "execution_count": 4,
   "metadata": {},
   "outputs": [
    {
     "data": {
      "text/plain": [
       "True"
      ]
     },
     "execution_count": 4,
     "metadata": {},
     "output_type": "execute_result"
    }
   ],
   "source": [
    "from plantcv import plantcv as pcv\n",
    "# image converted from RGB to HSV, channels are then split. \n",
    "# Value ('v') channel is outputed.\n",
    "v_channel = pcv.rgb2gray_hsv(rgb_img, 'v')\n",
    "cv2.imwrite(\"v_channel.jpg\",v_channel)"
   ]
  }
 ],
 "metadata": {
  "kernelspec": {
   "display_name": "Python 3",
   "language": "python",
   "name": "python3"
  },
  "language_info": {
   "codemirror_mode": {
    "name": "ipython",
    "version": 3
   },
   "file_extension": ".py",
   "mimetype": "text/x-python",
   "name": "python",
   "nbconvert_exporter": "python",
   "pygments_lexer": "ipython3",
   "version": "3.7.7"
  }
 },
 "nbformat": 4,
 "nbformat_minor": 4
}
